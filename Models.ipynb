{
 "cells": [
  {
   "cell_type": "code",
   "execution_count": 75,
   "metadata": {},
   "outputs": [],
   "source": [
    "# Importing Necessary Liberaries\n",
    "import pandas as pd\n",
    "from sklearn.model_selection import train_test_split\n",
    "from sklearn.metrics import mean_absolute_error,mean_squared_error,accuracy_score\n",
    "from sklearn.preprocessing import StandardScaler"
   ]
  },
  {
   "cell_type": "code",
   "execution_count": 76,
   "metadata": {},
   "outputs": [
    {
     "data": {
      "text/html": [
       "<div>\n",
       "<style scoped>\n",
       "    .dataframe tbody tr th:only-of-type {\n",
       "        vertical-align: middle;\n",
       "    }\n",
       "\n",
       "    .dataframe tbody tr th {\n",
       "        vertical-align: top;\n",
       "    }\n",
       "\n",
       "    .dataframe thead th {\n",
       "        text-align: right;\n",
       "    }\n",
       "</style>\n",
       "<table border=\"1\" class=\"dataframe\">\n",
       "  <thead>\n",
       "    <tr style=\"text-align: right;\">\n",
       "      <th></th>\n",
       "      <th>age</th>\n",
       "      <th>weight(kg)</th>\n",
       "      <th>height(m)</th>\n",
       "      <th>gender</th>\n",
       "      <th>BMI</th>\n",
       "      <th>BMR</th>\n",
       "      <th>activity_level</th>\n",
       "      <th>calories_to_maintain_weight</th>\n",
       "    </tr>\n",
       "  </thead>\n",
       "  <tbody>\n",
       "    <tr>\n",
       "      <th>0</th>\n",
       "      <td>2</td>\n",
       "      <td>16.097862</td>\n",
       "      <td>0.932025</td>\n",
       "      <td>0</td>\n",
       "      <td>18.531612</td>\n",
       "      <td>958.584</td>\n",
       "      <td>1.0</td>\n",
       "      <td>1150.3008</td>\n",
       "    </tr>\n",
       "    <tr>\n",
       "      <th>1</th>\n",
       "      <td>4</td>\n",
       "      <td>14.619374</td>\n",
       "      <td>0.916687</td>\n",
       "      <td>0</td>\n",
       "      <td>17.397496</td>\n",
       "      <td>932.383</td>\n",
       "      <td>4.0</td>\n",
       "      <td>1585.0511</td>\n",
       "    </tr>\n",
       "    <tr>\n",
       "      <th>2</th>\n",
       "      <td>4</td>\n",
       "      <td>17.899918</td>\n",
       "      <td>0.997288</td>\n",
       "      <td>0</td>\n",
       "      <td>17.997414</td>\n",
       "      <td>977.578</td>\n",
       "      <td>5.0</td>\n",
       "      <td>1857.3982</td>\n",
       "    </tr>\n",
       "    <tr>\n",
       "      <th>3</th>\n",
       "      <td>3</td>\n",
       "      <td>13.532880</td>\n",
       "      <td>1.022786</td>\n",
       "      <td>0</td>\n",
       "      <td>12.936609</td>\n",
       "      <td>944.689</td>\n",
       "      <td>5.0</td>\n",
       "      <td>1794.9091</td>\n",
       "    </tr>\n",
       "    <tr>\n",
       "      <th>4</th>\n",
       "      <td>4</td>\n",
       "      <td>17.039484</td>\n",
       "      <td>1.053977</td>\n",
       "      <td>1</td>\n",
       "      <td>15.338909</td>\n",
       "      <td>799.229</td>\n",
       "      <td>5.0</td>\n",
       "      <td>1518.5351</td>\n",
       "    </tr>\n",
       "  </tbody>\n",
       "</table>\n",
       "</div>"
      ],
      "text/plain": [
       "   age  weight(kg)  height(m)  gender        BMI      BMR  activity_level  \\\n",
       "0    2   16.097862   0.932025       0  18.531612  958.584             1.0   \n",
       "1    4   14.619374   0.916687       0  17.397496  932.383             4.0   \n",
       "2    4   17.899918   0.997288       0  17.997414  977.578             5.0   \n",
       "3    3   13.532880   1.022786       0  12.936609  944.689             5.0   \n",
       "4    4   17.039484   1.053977       1  15.338909  799.229             5.0   \n",
       "\n",
       "   calories_to_maintain_weight  \n",
       "0                    1150.3008  \n",
       "1                    1585.0511  \n",
       "2                    1857.3982  \n",
       "3                    1794.9091  \n",
       "4                    1518.5351  "
      ]
     },
     "execution_count": 76,
     "metadata": {},
     "output_type": "execute_result"
    }
   ],
   "source": [
    "# Importing preprocessed Dataset \n",
    "data = pd.read_csv('preprocessed_Data.csv')\n",
    "data.head()"
   ]
  },
  {
   "cell_type": "code",
   "execution_count": 77,
   "metadata": {},
   "outputs": [],
   "source": [
    "# Separating the features (X) and target variable (y)\n",
    "X = data.drop('calories_to_maintain_weight', axis=1)\n",
    "y = data['calories_to_maintain_weight']"
   ]
  },
  {
   "cell_type": "markdown",
   "metadata": {},
   "source": [
    "##### Splitting and Scaling data"
   ]
  },
  {
   "cell_type": "code",
   "execution_count": 78,
   "metadata": {},
   "outputs": [],
   "source": [
    "# Split the data into training and testing sets\n",
    "X_train, X_test, y_train, y_test = train_test_split(X, y, test_size=0.2, random_state=42)\n",
    "\n",
    "# Scaling training and testing data using standard scaler\n",
    "scaler = StandardScaler()\n",
    "X_train_scaled = scaler.fit_transform(X_train)\n",
    "X_test_scaled = scaler.transform(X_test)"
   ]
  },
  {
   "cell_type": "markdown",
   "metadata": {},
   "source": [
    "### Model training \n",
    "#### Following models are trained to find the best model for the project "
   ]
  },
  {
   "cell_type": "markdown",
   "metadata": {},
   "source": [
    "#### 1. Linear regression Model"
   ]
  },
  {
   "cell_type": "code",
   "execution_count": 79,
   "metadata": {},
   "outputs": [
    {
     "name": "stdout",
     "output_type": "stream",
     "text": [
      "Linear Regression - Mean Absolute Error: 39.86214339166397\n",
      "Linear Regression - Root Mean Squared Error: 50.729848968744086\n"
     ]
    }
   ],
   "source": [
    "from sklearn.linear_model import LinearRegression\n",
    "\n",
    "# Create a Linear Regression model\n",
    "model_lr = LinearRegression()\n",
    "\n",
    "# Train the model\n",
    "model_lr.fit(X_train_scaled, y_train)\n",
    "\n",
    "# Make predictions on the testing set\n",
    "y_pred_lr = model_lr.predict(X_test_scaled)\n",
    "\n",
    "# Evaluate the model\n",
    "mae_lr = mean_absolute_error(y_test, y_pred_lr)\n",
    "mse_lr = mean_squared_error(y_test, y_pred_lr, squared=False)\n",
    "#linear_accuracy = accuracy_score(y_test,y_pred_lr)\n",
    "\n",
    "print(f\"Linear Regression - Mean Absolute Error: {mae_lr}\")\n",
    "print(f\"Linear Regression - Root Mean Squared Error: {mse_lr}\")\n",
    "#print(f\"Linear Regression - Accuracy Score: {linear_accuracy}\")"
   ]
  },
  {
   "cell_type": "markdown",
   "metadata": {},
   "source": [
    "#### 2. Random Forest Regression"
   ]
  },
  {
   "cell_type": "code",
   "execution_count": 80,
   "metadata": {},
   "outputs": [
    {
     "name": "stdout",
     "output_type": "stream",
     "text": [
      "Random Forest Regression - Mean Absolute Error: 39.86214339166397\n",
      "Random Forest - Root Mean Squared Error: 14.543650705524188\n"
     ]
    }
   ],
   "source": [
    "# Importing necessary liberary\n",
    "from sklearn.ensemble import RandomForestRegressor\n",
    "\n",
    "# Creating Random Forest Model \n",
    "model_rf = RandomForestRegressor(random_state=44)\n",
    "\n",
    "# Training Model\n",
    "model_rf.fit(X_train_scaled, y_train)\n",
    "\n",
    "# Makeing prediction on test set \n",
    "y_pred_rf = model_rf.predict(X_test_scaled)\n",
    "\n",
    "# Evaluate the model\n",
    "mae_rf = mean_absolute_error(y_test, y_pred_lr)\n",
    "mse_rf = mean_squared_error(y_test, y_pred_rf)\n",
    "\n",
    "print(f\"Random Forest Regression - Mean Absolute Error: {mae_rf}\")\n",
    "print(f\"Random Forest - Root Mean Squared Error: {mse_rf}\")\n"
   ]
  },
  {
   "cell_type": "markdown",
   "metadata": {},
   "source": [
    "#### 3. Support Vector Regression"
   ]
  },
  {
   "cell_type": "code",
   "execution_count": 81,
   "metadata": {},
   "outputs": [
    {
     "name": "stdout",
     "output_type": "stream",
     "text": [
      "Support Vector Regression - Mean Absolute Error: 39.86214339166397\n",
      "Support Vector Regression - Root Mean Squared Error: 14.543650705524188\n"
     ]
    }
   ],
   "source": [
    "# Importing necessary liberary\n",
    "from sklearn.svm import SVR\n",
    "\n",
    "# Creating Support Vector Regression Model \n",
    "model_svr = SVR(kernel='linear')\n",
    "\n",
    "# Training Model\n",
    "model_svr.fit(X_train_scaled, y_train)\n",
    "\n",
    "# Makeing prediction on test set \n",
    "y_pred_svr = model_svr.predict(X_test_scaled)\n",
    "\n",
    "# Evaluate the model\n",
    "mae_svr = mean_absolute_error(y_test, y_pred_lr)\n",
    "mse_svr = mean_squared_error(y_test, y_pred_rf)\n",
    "\n",
    "print(f\"Support Vector Regression - Mean Absolute Error: {mae_svr}\")\n",
    "print(f\"Support Vector Regression - Root Mean Squared Error: {mse_svr}\")"
   ]
  },
  {
   "cell_type": "markdown",
   "metadata": {},
   "source": [
    "#### 4. Decision Tree\n"
   ]
  },
  {
   "cell_type": "code",
   "execution_count": 82,
   "metadata": {},
   "outputs": [
    {
     "name": "stdout",
     "output_type": "stream",
     "text": [
      "Decision Tree - Mean Absolute Error: 0.8439625349487389\n",
      "Decision Tree - Root Mean Squared Error: 3.4933513746909295\n"
     ]
    }
   ],
   "source": [
    "# Importing Necessary liberary\n",
    "from sklearn.tree import DecisionTreeRegressor\n",
    "\n",
    "# Createing a Decision Tree model\n",
    "tree_model = DecisionTreeRegressor(random_state=42)\n",
    "\n",
    "# Training the model\n",
    "tree_model.fit(X_train_scaled, y_train)\n",
    "\n",
    "# Makeing predictions on the testing set\n",
    "tree_predictions = tree_model.predict(X_test_scaled)\n",
    "\n",
    "# Evaluate the model\n",
    "tree_mae = mean_absolute_error(y_test, tree_predictions)\n",
    "tree_rmse = mean_squared_error(y_test, tree_predictions, squared=False)\n",
    "\n",
    "print(f\"Decision Tree - Mean Absolute Error: {tree_mae}\")\n",
    "print(f\"Decision Tree - Root Mean Squared Error: {tree_rmse}\")"
   ]
  },
  {
   "cell_type": "markdown",
   "metadata": {},
   "source": [
    "#### 5. Neural Network"
   ]
  },
  {
   "cell_type": "code",
   "execution_count": 85,
   "metadata": {},
   "outputs": [
    {
     "name": "stdout",
     "output_type": "stream",
     "text": [
      "Neural Network - Mean Absolute Error: 1.4493190568046403\n",
      "Neural Network - Root Mean Squared Error: 2.2361728003132053\n"
     ]
    },
    {
     "name": "stderr",
     "output_type": "stream",
     "text": [
      "c:\\Users\\Shivam Gupta\\Desktop\\Internship2\\venv\\Lib\\site-packages\\sklearn\\neural_network\\_multilayer_perceptron.py:691: ConvergenceWarning: Stochastic Optimizer: Maximum iterations (1200) reached and the optimization hasn't converged yet.\n",
      "  warnings.warn(\n"
     ]
    }
   ],
   "source": [
    "from sklearn.neural_network import MLPRegressor\n",
    "\n",
    "# Create a Neural Network model\n",
    "nn_model = MLPRegressor(random_state=42,max_iter=1200)\n",
    "\n",
    "# Train the model\n",
    "nn_model.fit(X_train_scaled, y_train)\n",
    "\n",
    "\n",
    "# Make predictions on the testing set\n",
    "nn_predictions = nn_model.predict(X_test_scaled)\n",
    "\n",
    "# Evaluate the model\n",
    "nn_mae = mean_absolute_error(y_test, nn_predictions)\n",
    "nn_rmse = mean_squared_error(y_test, nn_predictions, squared=False)\n",
    "\n",
    "print(f\"Neural Network - Mean Absolute Error: {nn_mae}\")\n",
    "print(f\"Neural Network - Root Mean Squared Error: {nn_rmse}\")"
   ]
  },
  {
   "cell_type": "markdown",
   "metadata": {},
   "source": [
    "### Model Comparison"
   ]
  },
  {
   "cell_type": "code",
   "execution_count": 86,
   "metadata": {},
   "outputs": [
    {
     "data": {
      "text/html": [
       "<div>\n",
       "<style scoped>\n",
       "    .dataframe tbody tr th:only-of-type {\n",
       "        vertical-align: middle;\n",
       "    }\n",
       "\n",
       "    .dataframe tbody tr th {\n",
       "        vertical-align: top;\n",
       "    }\n",
       "\n",
       "    .dataframe thead th {\n",
       "        text-align: right;\n",
       "    }\n",
       "</style>\n",
       "<table border=\"1\" class=\"dataframe\">\n",
       "  <thead>\n",
       "    <tr style=\"text-align: right;\">\n",
       "      <th></th>\n",
       "      <th>Model</th>\n",
       "      <th>MEAN SQUARED ERROR</th>\n",
       "      <th>MEAN ABSOLUTE ERROR</th>\n",
       "    </tr>\n",
       "  </thead>\n",
       "  <tbody>\n",
       "    <tr>\n",
       "      <th>0</th>\n",
       "      <td>Linear Regression</td>\n",
       "      <td>50.729849</td>\n",
       "      <td>39.862143</td>\n",
       "    </tr>\n",
       "    <tr>\n",
       "      <th>1</th>\n",
       "      <td>Random Forest Regression</td>\n",
       "      <td>14.543651</td>\n",
       "      <td>39.862143</td>\n",
       "    </tr>\n",
       "    <tr>\n",
       "      <th>2</th>\n",
       "      <td>Support Vector Regression</td>\n",
       "      <td>14.543651</td>\n",
       "      <td>39.862143</td>\n",
       "    </tr>\n",
       "    <tr>\n",
       "      <th>3</th>\n",
       "      <td>Decision Tree</td>\n",
       "      <td>3.493351</td>\n",
       "      <td>0.843963</td>\n",
       "    </tr>\n",
       "    <tr>\n",
       "      <th>4</th>\n",
       "      <td>Neural Network</td>\n",
       "      <td>2.236173</td>\n",
       "      <td>1.449319</td>\n",
       "    </tr>\n",
       "  </tbody>\n",
       "</table>\n",
       "</div>"
      ],
      "text/plain": [
       "                       Model  MEAN SQUARED ERROR  MEAN ABSOLUTE ERROR\n",
       "0          Linear Regression           50.729849            39.862143\n",
       "1   Random Forest Regression           14.543651            39.862143\n",
       "2  Support Vector Regression           14.543651            39.862143\n",
       "3              Decision Tree            3.493351             0.843963\n",
       "4             Neural Network            2.236173             1.449319"
      ]
     },
     "execution_count": 86,
     "metadata": {},
     "output_type": "execute_result"
    }
   ],
   "source": [
    "model_names = ['Linear Regression', 'Random Forest Regression', 'Support Vector Regression','Decision Tree','Neural Network']\n",
    "mse_scores = [mse_lr, mse_rf, mse_svr,tree_rmse,nn_rmse]\n",
    "mae_scores = [mae_lr,mae_rf,mae_svr,tree_mae,nn_mae]\n",
    "\n",
    "comparison_df = pd.DataFrame({'Model': model_names, 'MEAN SQUARED ERROR': mse_scores, 'MEAN ABSOLUTE ERROR': mae_scores})\n",
    "comparison_df"
   ]
  }
 ],
 "metadata": {
  "kernelspec": {
   "display_name": "venv",
   "language": "python",
   "name": "python3"
  },
  "language_info": {
   "codemirror_mode": {
    "name": "ipython",
    "version": 3
   },
   "file_extension": ".py",
   "mimetype": "text/x-python",
   "name": "python",
   "nbconvert_exporter": "python",
   "pygments_lexer": "ipython3",
   "version": "3.11.1"
  },
  "orig_nbformat": 4
 },
 "nbformat": 4,
 "nbformat_minor": 2
}
